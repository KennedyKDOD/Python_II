{
 "cells": [
  {
   "cell_type": "markdown",
   "metadata": {},
   "source": [
    "> Projeto Desenvolve <br>\n",
    "Programação Intermediária com Python <br>\n",
    "Profa. Camila Laranjeira (mila@projetodesenvolve.com.br) <br>\n",
    "\n",
    "# 2.4 - Classes, atributos e métodos"
   ]
  },
  {
   "cell_type": "markdown",
   "metadata": {},
   "source": [
    "## Exercícios\n",
    "\n",
    "#### Q1.\n",
    "Vamos criar aos pouquinhos uma classe Evento que registra eventos de um calendário. Pra começar, nessa questão você deve:\n",
    "\n",
    "* Criar uma classe chamada Evento\n",
    "* Adicionar um atributo de classe `total_eventos` que será usado para contar o número total de eventos (instâncias de classe) criadas.\n",
    "* Implemente o método construtor que deve receber os parâmetros `titulo` (`string`), `data_hora` (`datetime`), `descrição` (`string`). Crie e inicialize um atributo de instância para cada um dos parâmetros citados.\n",
    "* O construtor também deve inicializar um atributo de instância `is_concluido = False`. Esse atributo será utilizado mais à frente. \n",
    "* No construtor você também deve incrementar o atributo de classe `total_eventos` em 1 a cada nova instância criada.\n",
    "\n",
    "Teste o seu código criando duas diferentes instâncias de evento (preencha os atributos como quiser) e imprimindo todos os seus atributos (de classe e de instância).\n",
    "\n",
    "> Consulte [este tutorial biblioteca `datetime`](https://www.w3schools.com/python/python_datetime.asp) caso não esteja familiarizado."
   ]
  },
  {
   "cell_type": "code",
   "execution_count": 1,
   "metadata": {
    "vscode": {
     "languageId": "plaintext"
    }
   },
   "outputs": [
    {
     "name": "stdout",
     "output_type": "stream",
     "text": [
      "Evento 1: Reunião de equipe, Data: 2025-03-15 14:30:00, Descrição: Discussão sobre metas do trimestre, Concluído: False\n",
      "Evento 2: Aniversário, Data: 2025-04-10 19:00:00, Descrição: Festa de aniversário no salão, Concluído: False\n",
      "Total de eventos criados: 2\n"
     ]
    }
   ],
   "source": [
    "from datetime import datetime\n",
    "\n",
    "class Evento:\n",
    "    # Atributo de classe\n",
    "    total_eventos = 0\n",
    "\n",
    "    def __init__(self, titulo: str, data_hora: datetime, descricao: str):\n",
    "        self.titulo = titulo\n",
    "        self.data_hora = data_hora\n",
    "        self.descricao = descricao\n",
    "        self.is_concluido = False\n",
    "\n",
    "        # Incrementa o total de eventos criados\n",
    "        Evento.total_eventos += 1\n",
    "\n",
    "# Testando a classe\n",
    "evento1 = Evento(\"Reunião de equipe\", datetime(2025, 3, 15, 14, 30), \"Discussão sobre metas do trimestre\")\n",
    "evento2 = Evento(\"Aniversário\", datetime(2025, 4, 10, 19, 0), \"Festa de aniversário no salão\")\n",
    "\n",
    "# Imprimindo atributos das instâncias\n",
    "print(f\"Evento 1: {evento1.titulo}, Data: {evento1.data_hora}, Descrição: {evento1.descricao}, Concluído: {evento1.is_concluido}\")\n",
    "print(f\"Evento 2: {evento2.titulo}, Data: {evento2.data_hora}, Descrição: {evento2.descricao}, Concluído: {evento2.is_concluido}\")\n",
    "print(f\"Total de eventos criados: {Evento.total_eventos}\")\n"
   ]
  },
  {
   "cell_type": "markdown",
   "metadata": {},
   "source": [
    "#### Q2.\n",
    "Agora vamos adicionar métodos à nossa classe. Lembre dos diferentes decoradores que aprendemos. Você deve redefinir a classe com os seguintes métodos:\n",
    "* Um método `isConcluido()` que avalia se a `data_hora` do evento é menor que `datetime.now()` (a data e hora atual). Em caso positivo, atualiza o atributo de instância `is_concluido` para o valor `True`. \n",
    "* Um método de classe `num_eventos()` que retorna o valor do atributo de classe `total_eventos`.\n",
    "* Um método estático `valida_evento(nome, data_hora, descricao)` que recebe os atributos de um evento e testa os tipos de cada variável, retornando `True` caso todos estejam corretos e `False` caso contrário. Para o teste, use a função nativa do Python [`isinstance`](https://www.w3schools.com/python/ref_func_isinstance.asp).\n",
    "\n",
    "Para testar sua classe atualizada:\n",
    "* Crie uma instância de Evento com valor passado e chame o método `isConcluido()` para a instância criada. Em seguida imprima o atributo `is_concluido`. \n",
    "* Invoque o método de classe `num_eventos()` a partir da classe Evento (ou seja, sem criar nenhuma instância).\n",
    "* Chame o método estático `valida_evento()` a partir da classe Evento. Experimente passar valores corretos e incorretos. \n"
   ]
  },
  {
   "cell_type": "code",
   "execution_count": 2,
   "metadata": {
    "vscode": {
     "languageId": "plaintext"
    }
   },
   "outputs": [
    {
     "name": "stdout",
     "output_type": "stream",
     "text": [
      "O evento foi concluído? False\n",
      "Número total de eventos: 1\n",
      "True\n",
      "False\n"
     ]
    }
   ],
   "source": [
    "from datetime import datetime\n",
    "\n",
    "class Evento:\n",
    "    total_eventos = 0\n",
    "\n",
    "    def __init__(self, titulo: str, data_hora: datetime, descricao: str):\n",
    "        self.titulo = titulo\n",
    "        self.data_hora = data_hora\n",
    "        self.descricao = descricao\n",
    "        self.is_concluido = False\n",
    "        Evento.total_eventos += 1\n",
    "\n",
    "    def isConcluido(self):\n",
    "        if self.data_hora < datetime.now():\n",
    "            self.is_concluido = True\n",
    "\n",
    "    @classmethod\n",
    "    def num_eventos(cls):\n",
    "        return cls.total_eventos\n",
    "\n",
    "    @staticmethod\n",
    "    def valida_evento(titulo, data_hora, descricao):\n",
    "        return isinstance(titulo, str) and isinstance(data_hora, datetime) and isinstance(descricao, str)\n",
    "\n",
    "# Testando a nova classe\n",
    "evento1 = Evento(\"Reunião de equipe\", datetime(2025, 3, 15, 14, 30), \"Discussão sobre metas do trimestre\")\n",
    "\n",
    "# Testando isConcluido()\n",
    "evento1.isConcluido()\n",
    "print(f\"O evento foi concluído? {evento1.is_concluido}\")\n",
    "\n",
    "# Testando num_eventos()\n",
    "print(f\"Número total de eventos: {Evento.num_eventos()}\")\n",
    "\n",
    "# Testando valida_evento()\n",
    "print(Evento.valida_evento(\"Festa\", datetime(2025, 5, 10, 18, 0), \"Comemoração especial\"))  # Deve retornar True\n",
    "print(Evento.valida_evento(\"Festa\", \"2025-05-10\", \"Comemoração especial\"))  # Deve retornar False\n"
   ]
  },
  {
   "cell_type": "markdown",
   "metadata": {
    "vscode": {
     "languageId": "plaintext"
    }
   },
   "source": [
    "#### Q3.\n",
    "\n",
    "Vamos incluir métodos mágicos! ✨🪄🔮\n",
    "\n",
    "Redefina a classe incluindo\":\n",
    "* Método `__str__` que imprime os atributos do evento na forma `\"Evento: titulo, Data: data_hora, Descrição: descricao, Concluido: is_concluido\"`.\n",
    "* Implemente os métodos de comparação `__eq__`, `__ne__`, `__lt__`, `__le__`, `__gt__` e `__ge__` para comparar eventos baseados no atributo `data_hora`. Esses métodos devem comparar duas instâncias de Evento e retornar os resultados apropriados (`True` ou `False`).\n",
    "\n",
    "Para testar, crie duas instâncias de Evento com datas diferentes. Imprima as instâncias com a função `print()` e apresente o resultado das comparações entre eventos (`==`, `!=`, `<`, `<=`, `>`, `>=`)."
   ]
  },
  {
   "cell_type": "code",
   "execution_count": 3,
   "metadata": {
    "vscode": {
     "languageId": "plaintext"
    }
   },
   "outputs": [
    {
     "name": "stdout",
     "output_type": "stream",
     "text": [
      "Evento: Reunião de equipe, Data: 2025-03-15 14:30:00, Descrição: Discussão sobre metas do trimestre, Concluído: False\n",
      "Evento: Aniversário, Data: 2025-04-10 19:00:00, Descrição: Festa de aniversário no salão, Concluído: False\n",
      "Evento1 == Evento2? False\n",
      "Evento1 != Evento2? True\n",
      "Evento1 < Evento2? True\n",
      "Evento1 <= Evento2? True\n",
      "Evento1 > Evento2? False\n",
      "Evento1 >= Evento2? False\n"
     ]
    }
   ],
   "source": [
    "from datetime import datetime\n",
    "\n",
    "class Evento:\n",
    "    total_eventos = 0\n",
    "\n",
    "    def __init__(self, titulo: str, data_hora: datetime, descricao: str):\n",
    "        self.titulo = titulo\n",
    "        self.data_hora = data_hora\n",
    "        self.descricao = descricao\n",
    "        self.is_concluido = False\n",
    "        Evento.total_eventos += 1\n",
    "\n",
    "    def isConcluido(self):\n",
    "        if self.data_hora < datetime.now():\n",
    "            self.is_concluido = True\n",
    "\n",
    "    @classmethod\n",
    "    def num_eventos(cls):\n",
    "        return cls.total_eventos\n",
    "\n",
    "    @staticmethod\n",
    "    def valida_evento(titulo, data_hora, descricao):\n",
    "        return isinstance(titulo, str) and isinstance(data_hora, datetime) and isinstance(descricao, str)\n",
    "\n",
    "    def __str__(self):\n",
    "        return f\"Evento: {self.titulo}, Data: {self.data_hora}, Descrição: {self.descricao}, Concluído: {self.is_concluido}\"\n",
    "\n",
    "    def __eq__(self, other):\n",
    "        return self.data_hora == other.data_hora\n",
    "\n",
    "    def __ne__(self, other):\n",
    "        return self.data_hora != other.data_hora\n",
    "\n",
    "    def __lt__(self, other):\n",
    "        return self.data_hora < other.data_hora\n",
    "\n",
    "    def __le__(self, other):\n",
    "        return self.data_hora <= other.data_hora\n",
    "\n",
    "    def __gt__(self, other):\n",
    "        return self.data_hora > other.data_hora\n",
    "\n",
    "    def __ge__(self, other):\n",
    "        return self.data_hora >= other.data_hora\n",
    "\n",
    "# Testando a versão final da classe\n",
    "evento1 = Evento(\"Reunião de equipe\", datetime(2025, 3, 15, 14, 30), \"Discussão sobre metas do trimestre\")\n",
    "evento2 = Evento(\"Aniversário\", datetime(2025, 4, 10, 19, 0), \"Festa de aniversário no salão\")\n",
    "\n",
    "# Testando __str__\n",
    "print(evento1)\n",
    "print(evento2)\n",
    "\n",
    "# Testando comparações\n",
    "print(\"Evento1 == Evento2?\", evento1 == evento2)\n",
    "print(\"Evento1 != Evento2?\", evento1 != evento2)\n",
    "print(\"Evento1 < Evento2?\", evento1 < evento2)\n",
    "print(\"Evento1 <= Evento2?\", evento1 <= evento2)\n",
    "print(\"Evento1 > Evento2?\", evento1 > evento2)\n",
    "print(\"Evento1 >= Evento2?\", evento1 >= evento2)\n"
   ]
  },
  {
   "cell_type": "code",
   "execution_count": null,
   "metadata": {},
   "outputs": [],
   "source": []
  }
 ],
 "metadata": {
  "kernelspec": {
   "display_name": "Python 3 (ipykernel)",
   "language": "python",
   "name": "python3"
  },
  "language_info": {
   "codemirror_mode": {
    "name": "ipython",
    "version": 3
   },
   "file_extension": ".py",
   "mimetype": "text/x-python",
   "name": "python",
   "nbconvert_exporter": "python",
   "pygments_lexer": "ipython3",
   "version": "3.10.4"
  }
 },
 "nbformat": 4,
 "nbformat_minor": 4
}
