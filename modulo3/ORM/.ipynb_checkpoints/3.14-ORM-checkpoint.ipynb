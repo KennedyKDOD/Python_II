{
 "cells": [
  {
   "cell_type": "markdown",
   "metadata": {},
   "source": [
    "> Projeto Desenvolve <br>\n",
    "Programação Intermediária com Python <br>\n",
    "Profa. Camila Laranjeira (mila@projetodesenvolve.com.br) <br>\n",
    "\n",
    "# 3.14 - ORM"
   ]
  },
  {
   "cell_type": "markdown",
   "metadata": {},
   "source": [
    "## Exercícios\n",
    "\n",
    "#### Q1. Conhecendo os dados\n",
    "Baixe o seguinte csv onde iremos trabalhar. Ele contém informações sobre salários de profissionais de dados de uma empresa hipotética entre 2009 e 2016\n",
    "* https://github.com/camilalaranjeira/python-intermediario/blob/main/salaries.csv\n",
    "\n",
    "Suas colunas, descritas na [página do Kaggle que contém o dataset](https://www.kaggle.com/datasets/krishujeniya/salary-prediction-of-data-professions?resource=download), são:\n",
    "* FIRST NAME: Primeiro nome do profissional de dados (String)\n",
    "* LAST NAME: Sobrenome do profissional de dados (String)\n",
    "* SEX: Gênero do profissional de dados (String: 'F' para Feminino, 'M' para Masculino)\n",
    "* DOJ (Date of Joining): A data em que o profissional de dados ingressou na empresa (Data no formato MM/DD/AAAA)\n",
    "* CURRENT DATE: A data atual ou a data de referência dos dados (Data no formato MM/DD/AAAA)\n",
    "* DESIGNATION: O cargo ou designação do profissional de dados (String: ex., Analista, Analista Sênior, Gerente)\n",
    "* AGE: Idade do profissional de dados (Integer)\n",
    "* SALARY: Salário anual do profissional de dados (Float)\n",
    "* UNIT: Unidade de negócios ou departamento em que o profissional de dados trabalha (String: ex., TI, Finanças, Marketing)\n",
    "* LEAVES USED: Número de licenças utilizadas pelo profissional de dados (Integer)\n",
    "* LEAVES REMAINING: Número de licenças restantes para o profissional de dados (Integer)\n",
    "* RATINGS: Avaliações de desempenho do profissional de dados (Float)\n",
    "* PAST EXP: Experiência de trabalho anterior em anos antes de ingressar na empresa atual (Float)\n",
    "\n",
    "Na célula a seguir, **carregue os dados do CSV e dê uma olhada neles antes de seguir**."
   ]
  },
  {
   "cell_type": "code",
   "execution_count": 1,
   "metadata": {
    "vscode": {
     "languageId": "plaintext"
    }
   },
   "outputs": [
    {
     "name": "stdout",
     "output_type": "stream",
     "text": [
      "Primeiras 5 linhas do dataset:\n"
     ]
    },
    {
     "data": {
      "text/html": [
       "<div>\n",
       "<style scoped>\n",
       "    .dataframe tbody tr th:only-of-type {\n",
       "        vertical-align: middle;\n",
       "    }\n",
       "\n",
       "    .dataframe tbody tr th {\n",
       "        vertical-align: top;\n",
       "    }\n",
       "\n",
       "    .dataframe thead th {\n",
       "        text-align: right;\n",
       "    }\n",
       "</style>\n",
       "<table border=\"1\" class=\"dataframe\">\n",
       "  <thead>\n",
       "    <tr style=\"text-align: right;\">\n",
       "      <th></th>\n",
       "      <th>FIRST NAME</th>\n",
       "      <th>LAST NAME</th>\n",
       "      <th>SEX</th>\n",
       "      <th>DOJ</th>\n",
       "      <th>CURRENT DATE</th>\n",
       "      <th>DESIGNATION</th>\n",
       "      <th>AGE</th>\n",
       "      <th>SALARY</th>\n",
       "      <th>UNIT</th>\n",
       "      <th>LEAVES USED</th>\n",
       "      <th>LEAVES REMAINING</th>\n",
       "      <th>RATINGS</th>\n",
       "      <th>PAST EXP</th>\n",
       "    </tr>\n",
       "  </thead>\n",
       "  <tbody>\n",
       "    <tr>\n",
       "      <th>0</th>\n",
       "      <td>TOMASA</td>\n",
       "      <td>ARMEN</td>\n",
       "      <td>F</td>\n",
       "      <td>5-18-2014</td>\n",
       "      <td>01-07-2016</td>\n",
       "      <td>Analyst</td>\n",
       "      <td>21.0</td>\n",
       "      <td>44570</td>\n",
       "      <td>Finance</td>\n",
       "      <td>24.0</td>\n",
       "      <td>6.0</td>\n",
       "      <td>2.0</td>\n",
       "      <td>0</td>\n",
       "    </tr>\n",
       "    <tr>\n",
       "      <th>1</th>\n",
       "      <td>ANNIE</td>\n",
       "      <td>NaN</td>\n",
       "      <td>F</td>\n",
       "      <td>NaN</td>\n",
       "      <td>01-07-2016</td>\n",
       "      <td>Associate</td>\n",
       "      <td>NaN</td>\n",
       "      <td>89207</td>\n",
       "      <td>Web</td>\n",
       "      <td>NaN</td>\n",
       "      <td>13.0</td>\n",
       "      <td>NaN</td>\n",
       "      <td>7</td>\n",
       "    </tr>\n",
       "    <tr>\n",
       "      <th>2</th>\n",
       "      <td>OLIVE</td>\n",
       "      <td>ANCY</td>\n",
       "      <td>F</td>\n",
       "      <td>7-28-2014</td>\n",
       "      <td>01-07-2016</td>\n",
       "      <td>Analyst</td>\n",
       "      <td>21.0</td>\n",
       "      <td>40955</td>\n",
       "      <td>Finance</td>\n",
       "      <td>23.0</td>\n",
       "      <td>7.0</td>\n",
       "      <td>3.0</td>\n",
       "      <td>0</td>\n",
       "    </tr>\n",
       "    <tr>\n",
       "      <th>3</th>\n",
       "      <td>CHERRY</td>\n",
       "      <td>AQUILAR</td>\n",
       "      <td>F</td>\n",
       "      <td>04-03-2013</td>\n",
       "      <td>01-07-2016</td>\n",
       "      <td>Analyst</td>\n",
       "      <td>22.0</td>\n",
       "      <td>45550</td>\n",
       "      <td>IT</td>\n",
       "      <td>22.0</td>\n",
       "      <td>8.0</td>\n",
       "      <td>3.0</td>\n",
       "      <td>0</td>\n",
       "    </tr>\n",
       "    <tr>\n",
       "      <th>4</th>\n",
       "      <td>LEON</td>\n",
       "      <td>ABOULAHOUD</td>\n",
       "      <td>M</td>\n",
       "      <td>11-20-2014</td>\n",
       "      <td>01-07-2016</td>\n",
       "      <td>Analyst</td>\n",
       "      <td>NaN</td>\n",
       "      <td>43161</td>\n",
       "      <td>Operations</td>\n",
       "      <td>27.0</td>\n",
       "      <td>3.0</td>\n",
       "      <td>NaN</td>\n",
       "      <td>3</td>\n",
       "    </tr>\n",
       "  </tbody>\n",
       "</table>\n",
       "</div>"
      ],
      "text/plain": [
       "  FIRST NAME   LAST NAME SEX         DOJ CURRENT DATE DESIGNATION   AGE  \\\n",
       "0     TOMASA       ARMEN   F   5-18-2014   01-07-2016     Analyst  21.0   \n",
       "1      ANNIE         NaN   F         NaN   01-07-2016   Associate   NaN   \n",
       "2      OLIVE        ANCY   F   7-28-2014   01-07-2016     Analyst  21.0   \n",
       "3     CHERRY     AQUILAR   F  04-03-2013   01-07-2016     Analyst  22.0   \n",
       "4       LEON  ABOULAHOUD   M  11-20-2014   01-07-2016     Analyst   NaN   \n",
       "\n",
       "   SALARY        UNIT  LEAVES USED  LEAVES REMAINING  RATINGS  PAST EXP  \n",
       "0   44570     Finance         24.0               6.0      2.0         0  \n",
       "1   89207         Web          NaN              13.0      NaN         7  \n",
       "2   40955     Finance         23.0               7.0      3.0         0  \n",
       "3   45550          IT         22.0               8.0      3.0         0  \n",
       "4   43161  Operations         27.0               3.0      NaN         3  "
      ]
     },
     "metadata": {},
     "output_type": "display_data"
    },
    {
     "name": "stdout",
     "output_type": "stream",
     "text": [
      "\n",
      "Informações gerais do dataset:\n",
      "<class 'pandas.core.frame.DataFrame'>\n",
      "RangeIndex: 2639 entries, 0 to 2638\n",
      "Data columns (total 13 columns):\n",
      " #   Column            Non-Null Count  Dtype  \n",
      "---  ------            --------------  -----  \n",
      " 0   FIRST NAME        2639 non-null   object \n",
      " 1   LAST NAME         2637 non-null   object \n",
      " 2   SEX               2639 non-null   object \n",
      " 3   DOJ               2638 non-null   object \n",
      " 4   CURRENT DATE      2639 non-null   object \n",
      " 5   DESIGNATION       2639 non-null   object \n",
      " 6   AGE               2636 non-null   float64\n",
      " 7   SALARY            2639 non-null   int64  \n",
      " 8   UNIT              2639 non-null   object \n",
      " 9   LEAVES USED       2636 non-null   float64\n",
      " 10  LEAVES REMAINING  2637 non-null   float64\n",
      " 11  RATINGS           2637 non-null   float64\n",
      " 12  PAST EXP          2639 non-null   int64  \n",
      "dtypes: float64(4), int64(2), object(7)\n",
      "memory usage: 268.1+ KB\n"
     ]
    }
   ],
   "source": [
    "### Escreva sua resposta aqui\n",
    "import pandas as pd\n",
    "\n",
    "# Carregar o CSV\n",
    "df = pd.read_csv('salaries.csv')\n",
    "\n",
    "# Exibir as primeiras 5 linhas\n",
    "print(\"Primeiras 5 linhas do dataset:\")\n",
    "display(df.head())\n",
    "\n",
    "# Exibir informações gerais sobre o dataset\n",
    "print(\"\\nInformações gerais do dataset:\")\n",
    "df.info()"
   ]
  },
  {
   "cell_type": "markdown",
   "metadata": {},
   "source": [
    "#### Q2. Modelando os dados\n",
    "Você deve **criar um ORM com SQLAlchemy capaz de comportar os dados dessa base**.\n",
    "\n",
    "* Crie um campo de chave primária `ID`, que deve ser incrementado automaticamente\n",
    "* Os campos SEX, DESIGNATION e UNIT devem ser definidos como classes `Enum` com os possíveis valores (consulte os valores únicos dessas colunas)\n",
    "* Para os outros campos, consulte os tipos de dados informados na descrição acima"
   ]
  },
  {
   "cell_type": "code",
   "execution_count": 4,
   "metadata": {},
   "outputs": [
    {
     "name": "stdout",
     "output_type": "stream",
     "text": [
      "Collecting sqlalchemy\n",
      "  Downloading sqlalchemy-2.0.39-cp310-cp310-win_amd64.whl.metadata (9.9 kB)\n",
      "Collecting greenlet!=0.4.17 (from sqlalchemy)\n",
      "  Downloading greenlet-3.1.1-cp310-cp310-win_amd64.whl.metadata (3.9 kB)\n",
      "Requirement already satisfied: typing-extensions>=4.6.0 in c:\\users\\kennedy\\appdata\\local\\programs\\python\\python310\\lib\\site-packages (from sqlalchemy) (4.12.2)\n",
      "Downloading sqlalchemy-2.0.39-cp310-cp310-win_amd64.whl (2.1 MB)\n",
      "   ---------------------------------------- 0.0/2.1 MB ? eta -:--:--\n",
      "   ---------------------------------- ----- 1.8/2.1 MB 16.7 MB/s eta 0:00:01\n",
      "   ---------------------------------------- 2.1/2.1 MB 14.7 MB/s eta 0:00:00\n",
      "Downloading greenlet-3.1.1-cp310-cp310-win_amd64.whl (298 kB)\n",
      "Installing collected packages: greenlet, sqlalchemy\n",
      "Successfully installed greenlet-3.1.1 sqlalchemy-2.0.39\n"
     ]
    }
   ],
   "source": [
    "!pip install sqlalchemy"
   ]
  },
  {
   "cell_type": "code",
   "execution_count": 25,
   "metadata": {
    "vscode": {
     "languageId": "plaintext"
    }
   },
   "outputs": [
    {
     "name": "stdout",
     "output_type": "stream",
     "text": [
      "Modelo Employee criado com sucesso!\n"
     ]
    },
    {
     "name": "stderr",
     "output_type": "stream",
     "text": [
      "C:\\Users\\Kennedy\\AppData\\Local\\Temp\\ipykernel_13208\\4004226593.py:5: MovedIn20Warning: The ``declarative_base()`` function is now available as sqlalchemy.orm.declarative_base(). (deprecated since: 2.0) (Background on SQLAlchemy 2.0 at: https://sqlalche.me/e/b8d9)\n",
      "  Base = declarative_base()\n"
     ]
    }
   ],
   "source": [
    "from sqlalchemy import Column, Integer, String, Float, Date, Enum\n",
    "from sqlalchemy.ext.declarative import declarative_base\n",
    "import enum\n",
    "\n",
    "Base = declarative_base()\n",
    "\n",
    "class SexEnum(enum.Enum):\n",
    "    F = \"F\"\n",
    "    M = \"M\"\n",
    "\n",
    "class DesignationEnum(enum.Enum):\n",
    "    Analyst = \"Analyst\"\n",
    "    Senior_Analyst = \"Senior Analyst\"\n",
    "    Manager = \"Manager\"\n",
    "    Senior_Manager = \"Senior Manager\"\n",
    "    Associate = \"Associate\"\n",
    "    Director = \"Director\"\n",
    "\n",
    "class UnitEnum(enum.Enum):\n",
    "    IT = \"IT\"\n",
    "    Finance = \"Finance\"\n",
    "    Marketing = \"Marketing\"\n",
    "    Operations = \"Operations\"\n",
    "    Sales = \"Sales\"\n",
    "    Management = \"Management\"\n",
    "\n",
    "class Employee(Base):\n",
    "    __tablename__ = 'employees'\n",
    "    id = Column(Integer, primary_key=True, autoincrement=True)\n",
    "    first_name = Column(String(50))\n",
    "    last_name = Column(String(50))\n",
    "    sex = Column(Enum(SexEnum))\n",
    "    doj = Column(Date)\n",
    "    current_date = Column(Date)\n",
    "    designation = Column(Enum(DesignationEnum))\n",
    "    age = Column(Integer)\n",
    "    salary = Column(Float)\n",
    "    unit = Column(Enum(UnitEnum))\n",
    "    leaves_used = Column(Integer)\n",
    "    leaves_remaining = Column(Integer)\n",
    "    ratings = Column(Float)\n",
    "    past_exp = Column(Float)\n",
    "\n",
    "print(\"Modelo Employee criado com sucesso!\")"
   ]
  },
  {
   "cell_type": "markdown",
   "metadata": {
    "vscode": {
     "languageId": "plaintext"
    }
   },
   "source": [
    "#### Q3. Estabelecendo uma conexão\n",
    "\n",
    "Usando o método `create_engine` do SQLAlchemy, crie uma conexão com um novo banco de dados SQLite chamado `salarios`."
   ]
  },
  {
   "cell_type": "code",
   "execution_count": 6,
   "metadata": {
    "vscode": {
     "languageId": "plaintext"
    }
   },
   "outputs": [
    {
     "name": "stdout",
     "output_type": "stream",
     "text": [
      "Conexão com o banco 'salarios.db' estabelecida!\n"
     ]
    }
   ],
   "source": [
    "### Escreva sua resposta aqui\n",
    "from sqlalchemy import create_engine\n",
    "\n",
    "# Criar a engine para o banco SQLite\n",
    "engine = create_engine('sqlite:///salarios.db', echo=True)\n",
    "\n",
    "print(\"Conexão com o banco 'salarios.db' estabelecida!\")"
   ]
  },
  {
   "cell_type": "markdown",
   "metadata": {},
   "source": [
    "#### Q4. Criando as tabelas\n",
    "Crie as tabelas da questão Q2 no banco `salarios`."
   ]
  },
  {
   "cell_type": "code",
   "execution_count": 26,
   "metadata": {
    "vscode": {
     "languageId": "plaintext"
    }
   },
   "outputs": [
    {
     "name": "stdout",
     "output_type": "stream",
     "text": [
      "2025-03-20 17:50:55,825 INFO sqlalchemy.engine.Engine BEGIN (implicit)\n",
      "2025-03-20 17:50:55,826 INFO sqlalchemy.engine.Engine PRAGMA main.table_info(\"employees\")\n",
      "2025-03-20 17:50:55,827 INFO sqlalchemy.engine.Engine [raw sql] ()\n",
      "2025-03-20 17:50:55,828 INFO sqlalchemy.engine.Engine COMMIT\n",
      "Tabela 'employees' criada no banco 'salarios.db'!\n"
     ]
    }
   ],
   "source": [
    "### Escreva sua resposta aqui\n",
    "Base.metadata.create_all(engine)\n",
    "\n",
    "print(\"Tabela 'employees' criada no banco 'salarios.db'!\")\n"
   ]
  },
  {
   "cell_type": "markdown",
   "metadata": {},
   "source": [
    "#### Q5. Populando\n",
    "\n",
    "Usando o método `to_sql` da biblioteca Pandas (veja [a documentação](https://pandas.pydata.org/docs/reference/api/pandas.DataFrame.to_sql.html)), popule o banco `salarios` com os dados do csv que você carregou na questão Q1.\n",
    "* Lembre-se de definir o parâmetro `if_exists='append'` para que as tabelas não sejam dropadas e recriadas."
   ]
  },
  {
   "cell_type": "code",
   "execution_count": 27,
   "metadata": {
    "vscode": {
     "languageId": "plaintext"
    }
   },
   "outputs": [
    {
     "name": "stdout",
     "output_type": "stream",
     "text": [
      "2025-03-20 17:51:05,760 INFO sqlalchemy.engine.Engine BEGIN (implicit)\n",
      "2025-03-20 17:51:05,762 INFO sqlalchemy.engine.Engine PRAGMA main.table_info(\"employees\")\n",
      "2025-03-20 17:51:05,763 INFO sqlalchemy.engine.Engine [raw sql] ()\n",
      "2025-03-20 17:51:05,765 INFO sqlalchemy.engine.Engine PRAGMA main.table_info(\"employees\")\n",
      "2025-03-20 17:51:05,765 INFO sqlalchemy.engine.Engine [raw sql] ()\n",
      "2025-03-20 17:51:05,766 INFO sqlalchemy.engine.Engine SELECT name FROM sqlite_master WHERE type='table' AND name NOT LIKE 'sqlite~_%' ESCAPE '~' ORDER BY name\n",
      "2025-03-20 17:51:05,767 INFO sqlalchemy.engine.Engine [raw sql] ()\n",
      "2025-03-20 17:51:05,768 INFO sqlalchemy.engine.Engine SELECT name FROM sqlite_master WHERE type='view' AND name NOT LIKE 'sqlite~_%' ESCAPE '~' ORDER BY name\n",
      "2025-03-20 17:51:05,768 INFO sqlalchemy.engine.Engine [raw sql] ()\n",
      "2025-03-20 17:51:05,769 INFO sqlalchemy.engine.Engine PRAGMA main.table_xinfo(\"employees\")\n",
      "2025-03-20 17:51:05,770 INFO sqlalchemy.engine.Engine [raw sql] ()\n",
      "2025-03-20 17:51:05,771 INFO sqlalchemy.engine.Engine SELECT sql FROM  (SELECT * FROM sqlite_master UNION ALL   SELECT * FROM sqlite_temp_master) WHERE name = ? AND type in ('table', 'view')\n",
      "2025-03-20 17:51:05,771 INFO sqlalchemy.engine.Engine [raw sql] ('employees',)\n",
      "2025-03-20 17:51:05,772 INFO sqlalchemy.engine.Engine PRAGMA main.foreign_key_list(\"employees\")\n",
      "2025-03-20 17:51:05,773 INFO sqlalchemy.engine.Engine [raw sql] ()\n",
      "2025-03-20 17:51:05,774 INFO sqlalchemy.engine.Engine PRAGMA temp.foreign_key_list(\"employees\")\n",
      "2025-03-20 17:51:05,774 INFO sqlalchemy.engine.Engine [raw sql] ()\n",
      "2025-03-20 17:51:05,775 INFO sqlalchemy.engine.Engine SELECT sql FROM  (SELECT * FROM sqlite_master UNION ALL   SELECT * FROM sqlite_temp_master) WHERE name = ? AND type in ('table', 'view')\n",
      "2025-03-20 17:51:05,776 INFO sqlalchemy.engine.Engine [raw sql] ('employees',)\n",
      "2025-03-20 17:51:05,777 INFO sqlalchemy.engine.Engine PRAGMA main.index_list(\"employees\")\n",
      "2025-03-20 17:51:05,777 INFO sqlalchemy.engine.Engine [raw sql] ()\n",
      "2025-03-20 17:51:05,778 INFO sqlalchemy.engine.Engine PRAGMA temp.index_list(\"employees\")\n",
      "2025-03-20 17:51:05,779 INFO sqlalchemy.engine.Engine [raw sql] ()\n",
      "2025-03-20 17:51:05,780 INFO sqlalchemy.engine.Engine PRAGMA main.table_info(\"employees\")\n",
      "2025-03-20 17:51:05,781 INFO sqlalchemy.engine.Engine [raw sql] ()\n",
      "2025-03-20 17:51:05,782 INFO sqlalchemy.engine.Engine PRAGMA main.index_list(\"employees\")\n",
      "2025-03-20 17:51:05,783 INFO sqlalchemy.engine.Engine [raw sql] ()\n",
      "2025-03-20 17:51:05,784 INFO sqlalchemy.engine.Engine PRAGMA temp.index_list(\"employees\")\n",
      "2025-03-20 17:51:05,785 INFO sqlalchemy.engine.Engine [raw sql] ()\n",
      "2025-03-20 17:51:05,786 INFO sqlalchemy.engine.Engine PRAGMA main.table_info(\"employees\")\n",
      "2025-03-20 17:51:05,786 INFO sqlalchemy.engine.Engine [raw sql] ()\n",
      "2025-03-20 17:51:05,787 INFO sqlalchemy.engine.Engine SELECT sql FROM  (SELECT * FROM sqlite_master UNION ALL   SELECT * FROM sqlite_temp_master) WHERE name = ? AND type in ('table', 'view')\n",
      "2025-03-20 17:51:05,788 INFO sqlalchemy.engine.Engine [raw sql] ('employees',)\n",
      "2025-03-20 17:51:05,790 INFO sqlalchemy.engine.Engine \n",
      "DROP TABLE employees\n",
      "2025-03-20 17:51:05,791 INFO sqlalchemy.engine.Engine [no key 0.00101s] ()\n",
      "2025-03-20 17:51:06,297 INFO sqlalchemy.engine.Engine \n",
      "CREATE TABLE employees (\n",
      "\tfirst_name TEXT, \n",
      "\tlast_name TEXT, \n",
      "\tsex TEXT, \n",
      "\tdoj DATETIME, \n",
      "\t\"current_date\" DATETIME, \n",
      "\tdesignation TEXT, \n",
      "\tage FLOAT, \n",
      "\tsalary BIGINT, \n",
      "\tunit TEXT, \n",
      "\tleaves_used FLOAT, \n",
      "\tleaves_remaining FLOAT, \n",
      "\tratings FLOAT, \n",
      "\tpast_exp BIGINT\n",
      ")\n",
      "\n",
      "\n",
      "2025-03-20 17:51:06,297 INFO sqlalchemy.engine.Engine [no key 0.00056s] ()\n",
      "2025-03-20 17:51:06,428 INFO sqlalchemy.engine.Engine INSERT INTO employees (first_name, last_name, sex, doj, \"current_date\", designation, age, salary, unit, leaves_used, leaves_remaining, ratings, past_exp) VALUES (?, ?, ?, ?, ?, ?, ?, ?, ?, ?, ?, ?, ?)\n",
      "2025-03-20 17:51:06,428 INFO sqlalchemy.engine.Engine [generated in 0.02393s] [('TOMASA', 'ARMEN', 'F', '2014-05-18 00:00:00.000000', '2016-01-07 00:00:00.000000', 'Analyst', 21.0, 44570, 'Finance', 24.0, 6.0, 2.0, 0), ('ANNIE', None, 'F', None, '2016-01-07 00:00:00.000000', 'Associate', None, 89207, 'Web', None, 13.0, None, 7), ('OLIVE', 'ANCY', 'F', '2014-07-28 00:00:00.000000', '2016-01-07 00:00:00.000000', 'Analyst', 21.0, 40955, 'Finance', 23.0, 7.0, 3.0, 0), ('CHERRY', 'AQUILAR', 'F', '2013-04-03 00:00:00.000000', '2016-01-07 00:00:00.000000', 'Analyst', 22.0, 45550, 'IT', 22.0, 8.0, 3.0, 0), ('LEON', 'ABOULAHOUD', 'M', '2014-11-20 00:00:00.000000', '2016-01-07 00:00:00.000000', 'Analyst', None, 43161, 'Operations', 27.0, 3.0, None, 3), ('VICTORIA', None, 'F', '2013-02-19 00:00:00.000000', '2016-01-07 00:00:00.000000', 'Analyst', 22.0, 48736, 'Marketing', 20.0, 10.0, 4.0, 0), ('ELLIOT', 'AGULAR', 'M', '2013-09-02 00:00:00.000000', '2016-01-07 00:00:00.000000', 'Analyst', 22.0, 40339, 'Marketing', 19.0, 11.0, 5.0, 0), ('JACQUES', 'AKMAL', 'M', '2013-12-05 00:00:00.000000', '2016-01-07 00:00:00.000000', 'Analyst', None, 40058, 'Marketing', 29.0, 1.0, 2.0, 2)  ... displaying 10 of 2639 total bound parameter sets ...  ('TERI', 'ANASTASIO', 'F', '2014-03-17 00:00:00.000000', '2016-01-07 00:00:00.000000', 'Analyst', 24.0, 45172, 'Web', 23.0, 7.0, 3.0, 1), ('GREGORY', 'ABARCA', 'M', '2014-09-18 00:00:00.000000', '2016-01-07 00:00:00.000000', 'Analyst', 24.0, 49176, 'Marketing', 17.0, 13.0, 2.0, 2)]\n",
      "2025-03-20 17:51:06,435 INFO sqlalchemy.engine.Engine COMMIT\n",
      "Dados populados na tabela 'employees' com sucesso!\n"
     ]
    }
   ],
   "source": [
    "import pandas as pd\n",
    "\n",
    "# Reutilizar o DataFrame do exercício 1\n",
    "# Renomear as colunas do DataFrame para corresponder ao modelo Employee\n",
    "df = df.rename(columns={\n",
    "    'FIRST NAME': 'first_name',\n",
    "    'LAST NAME': 'last_name',\n",
    "    'SEX': 'sex',\n",
    "    'DOJ': 'doj',\n",
    "    'CURRENT DATE': 'current_date',\n",
    "    'DESIGNATION': 'designation',\n",
    "    'AGE': 'age',\n",
    "    'SALARY': 'salary',\n",
    "    'UNIT': 'unit',\n",
    "    'LEAVES USED': 'leaves_used',\n",
    "    'LEAVES REMAINING': 'leaves_remaining',\n",
    "    'RATINGS': 'ratings',\n",
    "    'PAST EXP': 'past_exp'\n",
    "})\n",
    "\n",
    "# Converter colunas de data para o formato datetime\n",
    "df['doj'] = pd.to_datetime(df['doj'], format='%m-%d-%Y')\n",
    "df['current_date'] = pd.to_datetime(df['current_date'], format='%m-%d-%Y')\n",
    "\n",
    "# Mapear os valores de 'designation' para corresponder ao DesignationEnum\n",
    "designation_mapping = {\n",
    "    'Analyst': 'Analyst',\n",
    "    'Senior Analyst': 'Senior_Analyst',\n",
    "    'Manager': 'Manager',\n",
    "    'Senior Manager': 'Senior_Manager',\n",
    "    'Associate': 'Associate',\n",
    "    'Director': 'Director'\n",
    "}\n",
    "df['designation'] = df['designation'].map(designation_mapping)\n",
    "\n",
    "# Popule a tabela 'employees'\n",
    "df.to_sql('employees', engine, if_exists='replace', index=False)  # 'replace' para sobrescrever os dados antigos\n",
    "\n",
    "print(\"Dados populados na tabela 'employees' com sucesso!\")"
   ]
  },
  {
   "cell_type": "markdown",
   "metadata": {},
   "source": [
    "#### Q6. Consultas SQL vs ORM\n",
    "\n",
    "Agrupe os dados por DESIGNATION e selecione o mínimo, máximo e a média dos salários (SALARY) divididos por 12. Já que o atributo SALARY é anual, dividir por 12 nos mostrará os valores mensais.\n",
    "\n",
    "Assumindo que a variável que armazena a sua conexão se chama `engine`, você deve realizar a query acima de três formas:\n",
    "* Executando a query SQL através de uma instância de conexão retornada pelo método `engine.connect()`\n",
    "* Executando a query SQL com o método `read_sql_query` do Pandas (veja [a documentação](https://pandas.pydata.org/docs/reference/api/pandas.read_sql_query.html)). Você usará mesma instância `engine.connect()` como um dos parâmetros.\n",
    "* Executando uma query criada com o módulo `select` do SQLAlchemy. Sua execução deve ser feita através de um objeto `Session` do módulo `orm` do SQLAlchemy (`Session(engine)`).\n"
   ]
  },
  {
   "cell_type": "code",
   "execution_count": 30,
   "metadata": {
    "vscode": {
     "languageId": "plaintext"
    }
   },
   "outputs": [
    {
     "name": "stdout",
     "output_type": "stream",
     "text": [
      "2025-03-20 17:51:35,776 INFO sqlalchemy.engine.Engine BEGIN (implicit)\n",
      "2025-03-20 17:51:35,777 INFO sqlalchemy.engine.Engine \n",
      "SELECT designation,\n",
      "       MIN(salary/12) as min_salary_monthly,\n",
      "       MAX(salary/12) as max_salary_monthly,\n",
      "       AVG(salary/12) as avg_salary_monthly\n",
      "FROM employees\n",
      "GROUP BY designation\n",
      "\n",
      "2025-03-20 17:51:35,778 INFO sqlalchemy.engine.Engine [cached since 824.2s ago] ()\n",
      "\n",
      "Resultado com engine.connect():\n",
      "Designation: None, Min: 4170.00, Max: 16631.00, Avg: 6459.29\n",
      "Designation: Analyst, Min: 3333.00, Max: 4165.00, Avg: 3751.22\n",
      "Designation: Associate, Min: 5846.00, Max: 8300.00, Avg: 7266.47\n",
      "Designation: Director, Min: 17832.00, Max: 32342.00, Avg: 23913.94\n",
      "Designation: Manager, Min: 8343.00, Max: 12407.00, Avg: 10522.25\n",
      "2025-03-20 17:51:35,781 INFO sqlalchemy.engine.Engine ROLLBACK\n"
     ]
    }
   ],
   "source": [
    "### Execute aqui sua query SQL com SQLAlchemy\n",
    "from sqlalchemy import text\n",
    "\n",
    "# Query SQL pura usando engine.connect()\n",
    "query_sql = \"\"\"\n",
    "SELECT designation,\n",
    "       MIN(salary/12) as min_salary_monthly,\n",
    "       MAX(salary/12) as max_salary_monthly,\n",
    "       AVG(salary/12) as avg_salary_monthly\n",
    "FROM employees\n",
    "GROUP BY designation\n",
    "\"\"\"\n",
    "\n",
    "with engine.connect() as conn:\n",
    "    result_sql = conn.execute(text(query_sql)).fetchall()\n",
    "    print(\"\\nResultado com engine.connect():\")\n",
    "    for row in result_sql:\n",
    "        print(f\"Designation: {row[0]}, Min: {row[1]:.2f}, Max: {row[2]:.2f}, Avg: {row[3]:.2f}\")"
   ]
  },
  {
   "cell_type": "code",
   "execution_count": 29,
   "metadata": {
    "vscode": {
     "languageId": "plaintext"
    }
   },
   "outputs": [
    {
     "name": "stdout",
     "output_type": "stream",
     "text": [
      "2025-03-20 17:51:26,773 INFO sqlalchemy.engine.Engine BEGIN (implicit)\n",
      "2025-03-20 17:51:26,774 INFO sqlalchemy.engine.Engine \n",
      "SELECT designation,\n",
      "       MIN(salary/12) as min_salary_monthly,\n",
      "       MAX(salary/12) as max_salary_monthly,\n",
      "       AVG(salary/12) as avg_salary_monthly\n",
      "FROM employees\n",
      "GROUP BY designation\n",
      "\n",
      "2025-03-20 17:51:26,775 INFO sqlalchemy.engine.Engine [raw sql] ()\n",
      "\n",
      "Resultado com Pandas read_sql_query:\n"
     ]
    },
    {
     "data": {
      "text/html": [
       "<div>\n",
       "<style scoped>\n",
       "    .dataframe tbody tr th:only-of-type {\n",
       "        vertical-align: middle;\n",
       "    }\n",
       "\n",
       "    .dataframe tbody tr th {\n",
       "        vertical-align: top;\n",
       "    }\n",
       "\n",
       "    .dataframe thead th {\n",
       "        text-align: right;\n",
       "    }\n",
       "</style>\n",
       "<table border=\"1\" class=\"dataframe\">\n",
       "  <thead>\n",
       "    <tr style=\"text-align: right;\">\n",
       "      <th></th>\n",
       "      <th>designation</th>\n",
       "      <th>min_salary_monthly</th>\n",
       "      <th>max_salary_monthly</th>\n",
       "      <th>avg_salary_monthly</th>\n",
       "    </tr>\n",
       "  </thead>\n",
       "  <tbody>\n",
       "    <tr>\n",
       "      <th>0</th>\n",
       "      <td>None</td>\n",
       "      <td>4170</td>\n",
       "      <td>16631</td>\n",
       "      <td>6459.287081</td>\n",
       "    </tr>\n",
       "    <tr>\n",
       "      <th>1</th>\n",
       "      <td>Analyst</td>\n",
       "      <td>3333</td>\n",
       "      <td>4165</td>\n",
       "      <td>3751.217034</td>\n",
       "    </tr>\n",
       "    <tr>\n",
       "      <th>2</th>\n",
       "      <td>Associate</td>\n",
       "      <td>5846</td>\n",
       "      <td>8300</td>\n",
       "      <td>7266.465409</td>\n",
       "    </tr>\n",
       "    <tr>\n",
       "      <th>3</th>\n",
       "      <td>Director</td>\n",
       "      <td>17832</td>\n",
       "      <td>32342</td>\n",
       "      <td>23913.937500</td>\n",
       "    </tr>\n",
       "    <tr>\n",
       "      <th>4</th>\n",
       "      <td>Manager</td>\n",
       "      <td>8343</td>\n",
       "      <td>12407</td>\n",
       "      <td>10522.246914</td>\n",
       "    </tr>\n",
       "  </tbody>\n",
       "</table>\n",
       "</div>"
      ],
      "text/plain": [
       "  designation  min_salary_monthly  max_salary_monthly  avg_salary_monthly\n",
       "0        None                4170               16631         6459.287081\n",
       "1     Analyst                3333                4165         3751.217034\n",
       "2   Associate                5846                8300         7266.465409\n",
       "3    Director               17832               32342        23913.937500\n",
       "4     Manager                8343               12407        10522.246914"
      ]
     },
     "metadata": {},
     "output_type": "display_data"
    },
    {
     "name": "stdout",
     "output_type": "stream",
     "text": [
      "2025-03-20 17:51:26,783 INFO sqlalchemy.engine.Engine ROLLBACK\n"
     ]
    }
   ],
   "source": [
    "### Execute aqui sua query SQL com SQLAlchemy + Pandas\n",
    "import pandas as pd\n",
    "\n",
    "# Query SQL usando Pandas read_sql_query\n",
    "query_sql = \"\"\"\n",
    "SELECT designation,\n",
    "       MIN(salary/12) as min_salary_monthly,\n",
    "       MAX(salary/12) as max_salary_monthly,\n",
    "       AVG(salary/12) as avg_salary_monthly\n",
    "FROM employees\n",
    "GROUP BY designation\n",
    "\"\"\"\n",
    "\n",
    "with engine.connect() as conn:\n",
    "    df_pandas = pd.read_sql_query(query_sql, conn)\n",
    "    print(\"\\nResultado com Pandas read_sql_query:\")\n",
    "    display(df_pandas)"
   ]
  },
  {
   "cell_type": "code",
   "execution_count": 28,
   "metadata": {
    "vscode": {
     "languageId": "plaintext"
    }
   },
   "outputs": [
    {
     "name": "stdout",
     "output_type": "stream",
     "text": [
      "2025-03-20 17:51:19,953 INFO sqlalchemy.engine.Engine BEGIN (implicit)\n",
      "2025-03-20 17:51:19,956 INFO sqlalchemy.engine.Engine SELECT employees.designation, min(employees.salary / (? + 0.0)) AS min_salary_monthly, max(employees.salary / (? + 0.0)) AS max_salary_monthly, avg(employees.salary / (? + 0.0)) AS avg_salary_monthly \n",
      "FROM employees GROUP BY employees.designation\n",
      "2025-03-20 17:51:19,956 INFO sqlalchemy.engine.Engine [generated in 0.00073s] (12, 12, 12)\n",
      "\n",
      "Resultado com SQLAlchemy ORM:\n",
      "Designation: None, Min: 4170.33, Max: 16631.42, Avg: 6459.74\n",
      "Designation: DesignationEnum.Analyst, Min: 3333.42, Max: 4165.00, Avg: 3751.68\n",
      "Designation: DesignationEnum.Associate, Min: 5846.17, Max: 8300.25, Avg: 7266.92\n",
      "Designation: DesignationEnum.Director, Min: 17832.25, Max: 32342.67, Avg: 23914.27\n",
      "Designation: DesignationEnum.Manager, Min: 8343.67, Max: 12407.50, Avg: 10522.72\n",
      "2025-03-20 17:51:19,959 INFO sqlalchemy.engine.Engine ROLLBACK\n"
     ]
    }
   ],
   "source": [
    "### Execute aqui sua query com SQLAlchemy ORM\n",
    "from sqlalchemy.orm import Session\n",
    "from sqlalchemy import func, select\n",
    "\n",
    "# Query usando SQLAlchemy ORM com Session\n",
    "session = Session(engine)\n",
    "\n",
    "query_orm = (\n",
    "    select(Employee.designation,\n",
    "           func.min(Employee.salary/12).label('min_salary_monthly'),\n",
    "           func.max(Employee.salary/12).label('max_salary_monthly'),\n",
    "           func.avg(Employee.salary/12).label('avg_salary_monthly'))\n",
    "    .group_by(Employee.designation)\n",
    ")\n",
    "\n",
    "result_orm = session.execute(query_orm).all()\n",
    "print(\"\\nResultado com SQLAlchemy ORM:\")\n",
    "for row in result_orm:\n",
    "    print(f\"Designation: {row[0]}, Min: {row[1]:.2f}, Max: {row[2]:.2f}, Avg: {row[3]:.2f}\")\n",
    "\n",
    "session.close()"
   ]
  },
  {
   "cell_type": "code",
   "execution_count": null,
   "metadata": {},
   "outputs": [],
   "source": []
  }
 ],
 "metadata": {
  "kernelspec": {
   "display_name": "Python 3 (ipykernel)",
   "language": "python",
   "name": "python3"
  },
  "language_info": {
   "codemirror_mode": {
    "name": "ipython",
    "version": 3
   },
   "file_extension": ".py",
   "mimetype": "text/x-python",
   "name": "python",
   "nbconvert_exporter": "python",
   "pygments_lexer": "ipython3",
   "version": "3.10.4"
  }
 },
 "nbformat": 4,
 "nbformat_minor": 4
}
